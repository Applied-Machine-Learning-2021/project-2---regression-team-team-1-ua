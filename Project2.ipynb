{
  "nbformat": 4,
  "nbformat_minor": 0,
  "metadata": {
    "colab": {
      "name": "colab.ipynb",
      "private_outputs": true,
      "provenance": [],
      "collapsed_sections": [
        "copyright"
      ]
    },
    "kernelspec": {
      "display_name": "Python [conda env:root] *",
      "language": "python",
      "name": "conda-root-py"
    },
    "language_info": {
      "codemirror_mode": {
        "name": "ipython",
        "version": 2
      },
      "file_extension": ".py",
      "mimetype": "text/x-python",
      "name": "python",
      "nbconvert_exporter": "python",
      "pygments_lexer": "ipython2",
      "version": "2.7.16"
    }
  },
  "cells": [
    {
      "cell_type": "markdown",
      "metadata": {
        "id": "view-in-github"
      },
      "source": [
        "<a href=\"https://colab.research.google.com/github/google/applied-machine-learning-intensive/blob/master/content/03_regression/09_regression_project/colab.ipynb\" target=\"_parent\"><img src=\"https://colab.research.google.com/assets/colab-badge.svg\" alt=\"Open In Colab\"/></a>"
      ]
    },
    {
      "cell_type": "markdown",
      "metadata": {
        "id": "copyright"
      },
      "source": [
        "#### Copyright 2020 Google LLC."
      ]
    },
    {
      "cell_type": "code",
      "metadata": {
        "id": "cSdG7cSNFro-"
      },
      "source": [
        "# Licensed under the Apache License, Version 2.0 (the \"License\");\n",
        "# you may not use this file except in compliance with the License.\n",
        "# You may obtain a copy of the License at\n",
        "#\n",
        "# https://www.apache.org/licenses/LICENSE-2.0\n",
        "#\n",
        "# Unless required by applicable law or agreed to in writing, software\n",
        "# distributed under the License is distributed on an \"AS IS\" BASIS,\n",
        "# WITHOUT WARRANTIES OR CONDITIONS OF ANY KIND, either express or implied.\n",
        "# See the License for the specific language governing permissions and\n",
        "# limitations under the License."
      ],
      "execution_count": null,
      "outputs": []
    },
    {
      "cell_type": "markdown",
      "metadata": {
        "id": "_FdRu8E0F6EJ"
      },
      "source": [
        "# Regression Project"
      ]
    },
    {
      "cell_type": "markdown",
      "metadata": {
        "id": "Mm5d3zEpKE00"
      },
      "source": [
        "We have learned about regression and how to build regression models using both scikit-learn and TensorFlow. Now we'll build a regression model from start to finish. We will acquire data and perform exploratory data analysis and data preprocessing. We'll build and tune our model and measure how well our model generalizes."
      ]
    },
    {
      "cell_type": "markdown",
      "metadata": {
        "id": "p8yFoIUhvXoO"
      },
      "source": [
        "**Team Members:**\n",
        "1. Alejandra Barroso\n",
        "1. Sam Lefforge\n",
        "1. A'Darius Lee"
      ]
    },
    {
      "cell_type": "markdown",
      "metadata": {
        "id": "2iIQ-XduKJZz"
      },
      "source": [
        "## Framing the Problem"
      ]
    },
    {
      "cell_type": "markdown",
      "metadata": {
        "id": "SY3OnPx1zGWa"
      },
      "source": [
        "### Overview"
      ]
    },
    {
      "cell_type": "markdown",
      "metadata": {
        "id": "9JbgK7HnzJD_"
      },
      "source": [
        "*Friendly Insurance, Inc.* has requested we do a study for them to help predict the cost of their policyholders. They have provided us with sample [anonymous data](https://www.kaggle.com/mirichoi0218/insurance) about some of their policyholders for the previous year. The dataset includes the following information:\n",
        "\n",
        "Column   | Description\n",
        "---------|-------------\n",
        "age      | age of primary beneficiary\n",
        "sex      | gender of the primary beneficiary (male or female)\n",
        "bmi      | body mass index of the primary beneficiary\n",
        "children | number of children covered by the plan\n",
        "smoker   | is the primary beneficiary a smoker (yes or no)\n",
        "region   | geographic region of the beneficiaries (northeast, southeast, southwest, or northwest)\n",
        "charges  | costs to the insurance company\n",
        "\n",
        "We have been asked to create a model that, given the first six columns, can predict the charges the insurance company might incur.\n",
        "\n",
        "The company wants to see how accurate we can get with our predictions. If we can make a case for our model, they will provide us with the full dataset of all of their customers for the last ten years to see if we can improve on our model and possibly even predict cost per client year over year."
      ]
    },
    {
      "cell_type": "markdown",
      "metadata": {
        "id": "YqKI2KIe02wc"
      },
      "source": [
        "### Exercise 1: Thinking About the Data\n",
        "\n",
        "Before we dive in to looking closely at the data, let's think about the problem space and the dataset. Consider the questions below."
      ]
    },
    {
      "cell_type": "markdown",
      "metadata": {
        "id": "BjnbH6vp1PEK"
      },
      "source": [
        "#### Question 1"
      ]
    },
    {
      "cell_type": "markdown",
      "metadata": {
        "id": "Fhcs4Keh1Shq"
      },
      "source": [
        "Is this problem actually a good fit for machine learning? Why or why not?\n",
        "\n",
        "##### **Student Solution**"
      ]
    },
    {
      "cell_type": "markdown",
      "metadata": {
        "id": "fhYunBlz1ZMn"
      },
      "source": [
        "> *This problem is a good fit for machine learning because the personal information of the insured are important parameters that need to be considered in order to come up with an insurance cost.*"
      ]
    },
    {
      "cell_type": "markdown",
      "metadata": {
        "id": "qJgwg-dL1cKm"
      },
      "source": [
        "---"
      ]
    },
    {
      "cell_type": "markdown",
      "metadata": {
        "id": "1q9C-k7o4A2g"
      },
      "source": [
        "#### Question 2"
      ]
    },
    {
      "cell_type": "markdown",
      "metadata": {
        "id": "O4F3Ezrc4DRb"
      },
      "source": [
        "If we do build the machine learning model, what biases might exist in the data? Is there anything that might cause the model to have trouble generalizing to other data? If so, how might we make the model more resilient?\n",
        "\n",
        "##### **Student Solution**"
      ]
    },
    {
      "cell_type": "markdown",
      "metadata": {
        "id": "grZRXJkr4Myz"
      },
      "source": [
        "> *A bias that might exist in the data is implicit bias. The person who decided that only those 7 attributes would determine a reasonable price, were incorrect as they need to get more information. To make the model more resilient, the insurance compant could also get their financial information. Something that might cause the model to have trouble generalizing to other data may be that the personal information that the insurance company gets is not enough to determine a price or an insurance plan for a person. There needs to be more information taken into consideration in order to meet the needs of the insured and to make a reasonal price. *"
      ]
    },
    {
      "cell_type": "markdown",
      "metadata": {
        "id": "bMk4NdcZ4PyG"
      },
      "source": [
        "---"
      ]
    },
    {
      "cell_type": "markdown",
      "metadata": {
        "id": "8LtrUiMk4wIg"
      },
      "source": [
        "#### Question 3"
      ]
    },
    {
      "cell_type": "markdown",
      "metadata": {
        "id": "oHHdnVjS446h"
      },
      "source": [
        "We have been asked to take input features about people who are insured and predict costs, but we haven't been given much information about how these predictions will be used. What effect might our predictions have on decisions made by the insurance company? How might this affect the insured?\n",
        "\n",
        "##### **Student Solution**"
      ]
    },
    {
      "cell_type": "markdown",
      "metadata": {
        "id": "s6tiq72L5Q11"
      },
      "source": [
        "> *The effect that our predictions may have on decisions made by the insurance company could be that it will cause a lot of bias. The insured could be overcharged because of their age, their sex, their weight, whether or not they have children, if they smoke or not, and because of the area they live in. Receiving this personal information could be tricky because the employee could overcharge someone based on a personal attribute that they do not like. This could affect the insured because they can be getting overcharged or not given all of the insurance benefits because of a personal attribute."
      ]
    },
    {
      "cell_type": "markdown",
      "metadata": {
        "id": "9LojR01P5TYf"
      },
      "source": [
        "---"
      ]
    },
    {
      "cell_type": "markdown",
      "metadata": {
        "id": "GVqj4S4tytvn"
      },
      "source": [
        "## Exploratory Data Analysis"
      ]
    },
    {
      "cell_type": "markdown",
      "metadata": {
        "id": "IAr2H2CJ60WX"
      },
      "source": [
        "Now that we have considered the societal implications of our model, we can start looking at the data to get a better understanding of what we are working with.\n",
        "\n",
        "The data we'll be using for this project can be [found on Kaggle](https://www.kaggle.com/mirichoi0218/insurance). Upload your `kaggle.json` file and run the code block below."
      ]
    },
    {
      "cell_type": "code",
      "metadata": {
        "id": "NiXw-ACkKlCT"
      },
      "source": [
        "! chmod 600 kaggle.json && (ls ~/.kaggle 2>/dev/null || mkdir ~/.kaggle) && mv kaggle.json ~/.kaggle/ && echo 'Done'"
      ],
      "execution_count": null,
      "outputs": []
    },
    {
      "cell_type": "markdown",
      "metadata": {
        "id": "CpYSfwuT8N3B"
      },
      "source": [
        "### Exercise 2: EDA and Data Preprocessing"
      ]
    },
    {
      "cell_type": "markdown",
      "metadata": {
        "id": "RgjffxoV7kxc"
      },
      "source": [
        "Using as many code and text blocks as you need, download the dataset, explore it, and do any model-independent preprocessing that you think is necessary. Feel free to use any of the tools for data analysis and visualization that we have covered in this course so far. Be sure to do individual column analysis and cross-column analysis. Explain your findings."
      ]
    },
    {
      "cell_type": "markdown",
      "metadata": {
        "id": "hIfb22Iq8Asx"
      },
      "source": [
        "#### **Student Solution**"
      ]
    },
    {
      "cell_type": "code",
      "metadata": {
        "id": "vk3q6P7q8D_V"
      },
      "source": [
        "# Add code and text blocks to explore the data and explain your work\n",
        "import pandas as pd\n",
        "import seaborn as sns\n",
        "import matplotlib.pyplot as plt\n",
        "\n",
        "insurance_df = pd.read_csv('insurance.csv')\n",
        "print(insurance_df.dtypes)\n",
        "print(insurance_df.describe())\n",
        "\n",
        "#check if there is any missing data\n",
        "print(insurance_df.isna())\n",
        "\n",
        "#convert to numeric\n",
        "insurance_df = pd.get_dummies(insurance_df)\n",
        "\n",
        "insurance_df\n",
        "\n"
      ],
      "execution_count": null,
      "outputs": []
    },
    {
      "cell_type": "markdown",
      "metadata": {
        "id": "jUo4DgfD8T7B"
      },
      "source": [
        "---"
      ]
    },
    {
      "cell_type": "markdown",
      "metadata": {
        "id": "V-ndDzPxjsC8"
      },
      "source": [
        "# **Column Analysis**"
      ]
    },
    {
      "cell_type": "code",
      "metadata": {
        "id": "WPSxfNvd7Nww"
      },
      "source": [
        "#Column analysis\n",
        "fig, ax = plt.subplots(figsize=(10,10))\n",
        "sns.heatmap(insurance_df.corr(), annot = True, linewidths=.5, ax=ax)"
      ],
      "execution_count": null,
      "outputs": []
    },
    {
      "cell_type": "markdown",
      "metadata": {
        "id": "0aaWJ5-F7SuS"
      },
      "source": [
        "\n",
        "**Cross Column Analysis**\n",
        "\n",
        "As you can see from the heatmap, there is a very strong positive correlation between the charges and whether or not someone is a smoker. By far, that is the correleation that stands out to me the most, but there are other strong correlations. Some other positive correlations include someone's bmi and if they live in the southeast, as well as insurance charges and age, and insurance charges and bmi."
      ]
    },
    {
      "cell_type": "markdown",
      "metadata": {
        "id": "J-PMJPuJjzfP"
      },
      "source": [
        "# **Individual Chart Analysis**"
      ]
    },
    {
      "cell_type": "markdown",
      "metadata": {
        "id": "t-oVdzyimwE6"
      },
      "source": [
        "**Charges Bar Graph**"
      ]
    },
    {
      "cell_type": "code",
      "metadata": {
        "id": "z6PENbztiZkK"
      },
      "source": [
        "import matplotlib.pyplot as plt\n",
        "\n",
        "plt.hist(insurance_df['charges'])\n",
        "plt.title('Charges')\n",
        "plt.xlabel(\"Charge\")\n",
        "plt.ylabel(\"Number of People\")\n",
        "plt.show()"
      ],
      "execution_count": null,
      "outputs": []
    },
    {
      "cell_type": "markdown",
      "metadata": {
        "id": "gSF1thA55BiO"
      },
      "source": [
        "As you can see from the charges column, most people tend to cost insurance companies less than $15000, with a relatively small but substantial amount of people costing significantly more.\n",
        "\n"
      ]
    },
    {
      "cell_type": "markdown",
      "metadata": {
        "id": "OhCnHifBm4II"
      },
      "source": [
        "**Ages Bar Chart**"
      ]
    },
    {
      "cell_type": "code",
      "metadata": {
        "id": "X5aGwu2wisqR"
      },
      "source": [
        "import matplotlib.pyplot as plt\n",
        "\n",
        "plt.hist(insurance_df['age'])\n",
        "plt.title('Ages')\n",
        "plt.xlabel(\"Age\")\n",
        "plt.ylabel(\"Number of People\")\n",
        "plt.show()\n"
      ],
      "execution_count": null,
      "outputs": []
    },
    {
      "cell_type": "markdown",
      "metadata": {
        "id": "Dpc9yHLvsO-P"
      },
      "source": [
        "From the bar graph above, there are more people ensured of the ages relatively between 18-28, and relativly between 42-50."
      ]
    },
    {
      "cell_type": "markdown",
      "metadata": {
        "id": "S4EgR_panBkL"
      },
      "source": [
        "**BMI Bar Chart**"
      ]
    },
    {
      "cell_type": "code",
      "metadata": {
        "id": "8R-FsIMBi9Jy"
      },
      "source": [
        "import matplotlib.pyplot as plt\n",
        "\n",
        "plt.hist(insurance_df['bmi'])\n",
        "plt.title('BMI')\n",
        "plt.xlabel(\"BMI\")\n",
        "plt.ylabel(\"Number of People\")\n",
        "plt.show()"
      ],
      "execution_count": null,
      "outputs": []
    },
    {
      "cell_type": "markdown",
      "metadata": {
        "id": "c02vsQZ1m86Y"
      },
      "source": [
        "**Children Pie Chart**"
      ]
    },
    {
      "cell_type": "code",
      "metadata": {
        "id": "Y9QOLG8Di4Vr"
      },
      "source": [
        "import matplotlib.pyplot as plt\n",
        "\n",
        "plt.pie(insurance_df['children'])\n",
        "plt.title('Children')\n",
        "children_sizes = [insurance_df['children'].value_counts()[0],\n",
        "                  insurance_df['children'].value_counts()[1],\n",
        "                  insurance_df['children'].value_counts()[2],\n",
        "                  insurance_df['children'].value_counts()[3],\n",
        "                  insurance_df['children'].value_counts()[4],\n",
        "                  insurance_df['children'].value_counts()[5]]  \n",
        "plt.pie(children_sizes, labels = ['Has No Children', 'Has One Child', 'Has Two Children', 'Has Three Children', 'Has Four Children', 'Has Five Children'], autopct='%1.1f%%')\n",
        "plt.title('Children')\n",
        "plt.show(children_sizes)"
      ],
      "execution_count": null,
      "outputs": []
    },
    {
      "cell_type": "markdown",
      "metadata": {
        "id": "nH5HSOtvrdJH"
      },
      "source": [
        "The chart above shows that of the ensured, there are more people who do not have children and there are less people that have 4 or 5 children."
      ]
    },
    {
      "cell_type": "markdown",
      "metadata": {
        "id": "6_YIhr21l_oW"
      },
      "source": [
        "**Smoke Pie Chart**"
      ]
    },
    {
      "cell_type": "code",
      "metadata": {
        "id": "VBMr2-QijEDp"
      },
      "source": [
        "import matplotlib.pyplot as plt\n",
        "\n",
        "smoke_sizes = [insurance_df['smoker_yes'].value_counts()[0], insurance_df['smoker_yes'].value_counts()[1]] \n",
        "plt.pie(smoke_sizes, labels = [\"Doesn't Smoke\", 'Smokes'], autopct='%1.1f%%')\n",
        "plt.title('Smoker')\n",
        "plt.show(smoke_sizes)"
      ],
      "execution_count": null,
      "outputs": []
    },
    {
      "cell_type": "markdown",
      "metadata": {
        "id": "0CyHc54AlO3F"
      },
      "source": [
        "The chart above shows that 79.5% of the insured do not smoke, while 20.5% of the insured do smoke."
      ]
    },
    {
      "cell_type": "markdown",
      "metadata": {
        "id": "VL7hHrlumFs6"
      },
      "source": [
        "**Sex Pie Chart**"
      ]
    },
    {
      "cell_type": "code",
      "metadata": {
        "id": "DxPfp5mZjXGD"
      },
      "source": [
        "\n",
        "import matplotlib.pyplot as plt\n",
        "\n",
        "sex_sizes = [insurance_df['sex_female'].value_counts()[0], insurance_df['sex_female'].value_counts()[1]] \n",
        "plt.pie(sex_sizes, labels = ['Male', 'Female'], autopct='%1.1f%%')\n",
        "plt.title('Sex')\n",
        "plt.show(sex_sizes)\n"
      ],
      "execution_count": null,
      "outputs": []
    },
    {
      "cell_type": "markdown",
      "metadata": {
        "id": "PVPlbOR4ltL2"
      },
      "source": [
        "The chart above shows that of the insured, 50.5% are male and 49.5% are females."
      ]
    },
    {
      "cell_type": "markdown",
      "metadata": {
        "id": "nnb91JwZmQJx"
      },
      "source": [
        "**Region Pie Chart**"
      ]
    },
    {
      "cell_type": "code",
      "metadata": {
        "id": "5ryJ_KdqjiUU"
      },
      "source": [
        "#individual column analysis\n",
        "import matplotlib.pyplot as plt\n",
        "\n",
        "region_sizes = [insurance_df['region_northeast'].value_counts()[1], \n",
        "                insurance_df['region_northwest'].value_counts()[1], \n",
        "                insurance_df['region_southeast'].value_counts()[1],\n",
        "                insurance_df['region_southwest'].value_counts()[1]] \n",
        "plt.pie(region_sizes, labels = ['Northeast', 'Northwest', 'Southeast', 'Southwest'], autopct='%1.1f%%')\n",
        "plt.title('Region')\n",
        "plt.show(region_sizes)"
      ],
      "execution_count": null,
      "outputs": []
    },
    {
      "cell_type": "markdown",
      "metadata": {
        "id": "8sDThJ22mVsk"
      },
      "source": [
        "The chart above shows that there are more people who are insured in the southeast area, and the least ensured are from the northeast area. You can also see that the northwest and the southwest area have the same number of people ensured."
      ]
    },
    {
      "cell_type": "markdown",
      "metadata": {
        "id": "Ac-YMzcBy1yM"
      },
      "source": [
        "## Modeling"
      ]
    },
    {
      "cell_type": "markdown",
      "metadata": {
        "id": "Mp3TkmalNcR-"
      },
      "source": [
        "Now that we understand our data a little better, we can build a model. We are trying to predict 'charges', which is a continuous variable. We'll use a regression model to predict 'charges'."
      ]
    },
    {
      "cell_type": "markdown",
      "metadata": {
        "id": "nmlwZpbUIHQZ"
      },
      "source": [
        "### Exercise 3: Modeling"
      ]
    },
    {
      "cell_type": "markdown",
      "metadata": {
        "id": "Cnc7Y47bIQG5"
      },
      "source": [
        "Using as many code and text blocks as you need, build a model that can predict 'charges' given the features that we have available. To do this, feel free to use any of the toolkits and models that we have explored so far.\n",
        "\n",
        "You'll be expected to:\n",
        "1. Prepare the data for the model (or models) that you choose. Remember that some of the data is categorical. In order for your model to use it, you'll need to convert the data to some numeric representation.\n",
        "1. Build a model or models and adjust parameters.\n",
        "1. Validate your model with holdout data. Hold out some percentage of your data (10-20%), and use it as a final validation of your model. Print the root mean squared error. We were able to get an RMSE between `3500` and `4000`, but your final RMSE will likely be different."
      ]
    },
    {
      "cell_type": "markdown",
      "metadata": {
        "id": "YjSCGA7HryJh"
      },
      "source": [
        "#### **Student Solution**"
      ]
    },
    {
      "cell_type": "code",
      "metadata": {
        "id": "-rZZ6JR7KUJf"
      },
      "source": [
        "#TensorFlow version\n",
        "%tensorflow_version 2.x\n",
        "\n",
        "import tensorflow as tf\n",
        "tf.__version__"
      ],
      "execution_count": null,
      "outputs": []
    },
    {
      "cell_type": "code",
      "metadata": {
        "id": "5Sm-HIs5IL3F"
      },
      "source": [
        "# Add code and text blocks to build and validate a model and explain your work\n",
        "import numpy as np\n",
        "import math\n",
        "from sklearn import metrics\n",
        "from tensorflow import keras\n",
        "from tensorflow.keras import layers\n",
        "\n",
        "#creating numerical columns\n",
        "target_column = 'charges'\n",
        "feature_columns = [c for c in insurance_df.columns if c != target_column]\n",
        "numeric_feature_columns = ['age', 'bmi', 'children', 'charges']\n",
        "target_column, feature_columns, numeric_feature_columns\n",
        "\n",
        "TARGET_FACTOR = 10000\n",
        "insurance_df[target_column] /= TARGET_FACTOR\n",
        "insurance_df[target_column].describe()\n",
        "\n",
        "#standardization\n",
        "mean = insurance_df[numeric_feature_columns].mean()\n",
        "std = insurance_df[numeric_feature_columns].std()\n",
        "insurance_df[numeric_feature_columns] -= insurance_df[numeric_feature_columns].mean()\n",
        "insurance_df[numeric_feature_columns] /= insurance_df[numeric_feature_columns].std()\n",
        "\n",
        "# Shuffle\n",
        "insurance_df = insurance_df.sample(frac=1)\n",
        "\n",
        "# Calculate test set size\n",
        "test_set_size = int(len(insurance_df) * 0.2)\n",
        "\n",
        "# Split the data\n",
        "testing_df = insurance_df[:test_set_size]\n",
        "training_df = insurance_df[test_set_size:]\n",
        "\n",
        "# print(training_df.keys())\n",
        "print(f'Holding out {len(testing_df)} records for testing. ')\n",
        "print(f'Using {len(training_df)} records for training.')\n",
        "\n",
        "model = keras.Sequential(layers=[\n",
        "    layers.Dense(\n",
        "        1,\n",
        "        input_shape=[len(feature_columns)],\n",
        "        # Name your layer here\n",
        "        name = 'Insurance'\n",
        "    )\n",
        "])\n",
        "\n",
        "model.summary()\n",
        "\n",
        "feature_count = len(feature_columns)\n",
        "\n",
        "model = keras.Sequential([\n",
        "  layers.Dense(64, input_shape=[feature_count], activation='relu'),\n",
        "  layers.Dense(64),\n",
        "  layers.Dense(1)\n",
        "])\n",
        "\n",
        "model.compile(\n",
        "  loss='mse',\n",
        "  optimizer='Adam',\n",
        "  metrics=['mae', 'mse'],\n",
        ")\n",
        "\n",
        "EPOCHS = 50\n",
        "\n",
        "history = model.fit(\n",
        "  training_df[feature_columns],\n",
        "  training_df[target_column],\n",
        "  epochs=EPOCHS,\n",
        "  verbose=0,                     # New parameter to make model training silent\n",
        "  validation_split=0.2,\n",
        ")\n",
        "\n",
        "predictions = model.predict(testing_df[feature_columns])\n",
        "predictions\n",
        "\n",
        "\n",
        "rmse = tf.keras.metrics.RootMeanSquaredError()\n",
        "rmse.update_state(testing_df[target_column], predictions)\n",
        "\n",
        "print(rmse.result().numpy())\n",
        "print(rmse.result().numpy()*TARGET_FACTOR)\n",
        "\n",
        "insurance_df\n"
      ],
      "execution_count": null,
      "outputs": []
    },
    {
      "cell_type": "markdown",
      "metadata": {
        "id": "ITsTAJgWIJVT"
      },
      "source": [
        "---"
      ]
    }
  ]
}